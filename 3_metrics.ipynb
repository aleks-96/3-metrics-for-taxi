{
 "cells": [
  {
   "cell_type": "code",
   "execution_count": 1,
   "metadata": {
    "id": "HPdS-Q4ryuIR"
   },
   "outputs": [],
   "source": [
    "import pandas as pd\n",
    "import seaborn as sns\n",
    "import matplotlib.pyplot as plt"
   ]
  },
  {
   "cell_type": "markdown",
   "metadata": {
    "id": "vLD60t6jKSNp"
   },
   "source": [
    " "
   ]
  },
  {
   "cell_type": "code",
   "execution_count": 2,
   "metadata": {
    "id": "Z6-DRLMXzGeO"
   },
   "outputs": [],
   "source": [
    "df = pd.read_csv('new_dataframe.csv')\n",
    "df = df.drop(columns=['Unnamed: 0'])"
   ]
  },
  {
   "cell_type": "code",
   "execution_count": 3,
   "metadata": {
    "colab": {
     "base_uri": "https://localhost:8080/"
    },
    "id": "I9D92URYzHq-",
    "outputId": "5cb2db48-4228-4bd4-a9be-f01446e54406"
   },
   "outputs": [
    {
     "data": {
      "text/html": [
       "<div>\n",
       "<style scoped>\n",
       "    .dataframe tbody tr th:only-of-type {\n",
       "        vertical-align: middle;\n",
       "    }\n",
       "\n",
       "    .dataframe tbody tr th {\n",
       "        vertical-align: top;\n",
       "    }\n",
       "\n",
       "    .dataframe thead th {\n",
       "        text-align: right;\n",
       "    }\n",
       "</style>\n",
       "<table border=\"1\" class=\"dataframe\">\n",
       "  <thead>\n",
       "    <tr style=\"text-align: right;\">\n",
       "      <th></th>\n",
       "      <th>user_id</th>\n",
       "      <th>hour</th>\n",
       "      <th>os</th>\n",
       "      <th>order_class</th>\n",
       "      <th>surge</th>\n",
       "      <th>app_opened</th>\n",
       "      <th>price_seen</th>\n",
       "      <th>order_made</th>\n",
       "      <th>ride_completed</th>\n",
       "      <th>user_cancelled</th>\n",
       "      <th>city_center_order</th>\n",
       "      <th>distance</th>\n",
       "      <th>age</th>\n",
       "      <th>rfm</th>\n",
       "    </tr>\n",
       "  </thead>\n",
       "  <tbody>\n",
       "    <tr>\n",
       "      <th>0</th>\n",
       "      <td>867689</td>\n",
       "      <td>12</td>\n",
       "      <td>iOS</td>\n",
       "      <td>business</td>\n",
       "      <td>no surge</td>\n",
       "      <td>1</td>\n",
       "      <td>1</td>\n",
       "      <td>1</td>\n",
       "      <td>1</td>\n",
       "      <td>0</td>\n",
       "      <td>0</td>\n",
       "      <td>7.982135</td>\n",
       "      <td>20</td>\n",
       "      <td>low</td>\n",
       "    </tr>\n",
       "    <tr>\n",
       "      <th>1</th>\n",
       "      <td>752172</td>\n",
       "      <td>5</td>\n",
       "      <td>Android</td>\n",
       "      <td>economy</td>\n",
       "      <td>no surge</td>\n",
       "      <td>1</td>\n",
       "      <td>1</td>\n",
       "      <td>1</td>\n",
       "      <td>1</td>\n",
       "      <td>0</td>\n",
       "      <td>1</td>\n",
       "      <td>2.908468</td>\n",
       "      <td>27</td>\n",
       "      <td>high</td>\n",
       "    </tr>\n",
       "    <tr>\n",
       "      <th>2</th>\n",
       "      <td>486559</td>\n",
       "      <td>15</td>\n",
       "      <td>Android</td>\n",
       "      <td>comfort</td>\n",
       "      <td>no surge</td>\n",
       "      <td>1</td>\n",
       "      <td>1</td>\n",
       "      <td>1</td>\n",
       "      <td>1</td>\n",
       "      <td>0</td>\n",
       "      <td>0</td>\n",
       "      <td>7.224614</td>\n",
       "      <td>21</td>\n",
       "      <td>high</td>\n",
       "    </tr>\n",
       "    <tr>\n",
       "      <th>3</th>\n",
       "      <td>304024</td>\n",
       "      <td>0</td>\n",
       "      <td>Android</td>\n",
       "      <td>economy</td>\n",
       "      <td>no surge</td>\n",
       "      <td>1</td>\n",
       "      <td>1</td>\n",
       "      <td>1</td>\n",
       "      <td>1</td>\n",
       "      <td>0</td>\n",
       "      <td>1</td>\n",
       "      <td>1.874349</td>\n",
       "      <td>52</td>\n",
       "      <td>low</td>\n",
       "    </tr>\n",
       "    <tr>\n",
       "      <th>4</th>\n",
       "      <td>139420</td>\n",
       "      <td>0</td>\n",
       "      <td>Android</td>\n",
       "      <td>business</td>\n",
       "      <td>no surge</td>\n",
       "      <td>1</td>\n",
       "      <td>1</td>\n",
       "      <td>1</td>\n",
       "      <td>1</td>\n",
       "      <td>0</td>\n",
       "      <td>0</td>\n",
       "      <td>10.704778</td>\n",
       "      <td>19</td>\n",
       "      <td>low</td>\n",
       "    </tr>\n",
       "  </tbody>\n",
       "</table>\n",
       "</div>"
      ],
      "text/plain": [
       "   user_id  hour       os order_class     surge  app_opened  price_seen  \\\n",
       "0   867689    12      iOS    business  no surge           1           1   \n",
       "1   752172     5  Android     economy  no surge           1           1   \n",
       "2   486559    15  Android     comfort  no surge           1           1   \n",
       "3   304024     0  Android     economy  no surge           1           1   \n",
       "4   139420     0  Android    business  no surge           1           1   \n",
       "\n",
       "   order_made  ride_completed  user_cancelled  city_center_order   distance  \\\n",
       "0           1               1               0                  0   7.982135   \n",
       "1           1               1               0                  1   2.908468   \n",
       "2           1               1               0                  0   7.224614   \n",
       "3           1               1               0                  1   1.874349   \n",
       "4           1               1               0                  0  10.704778   \n",
       "\n",
       "   age   rfm  \n",
       "0   20   low  \n",
       "1   27  high  \n",
       "2   21  high  \n",
       "3   52   low  \n",
       "4   19   low  "
      ]
     },
     "execution_count": 3,
     "metadata": {},
     "output_type": "execute_result"
    }
   ],
   "source": [
    "df.head()"
   ]
  },
  {
   "cell_type": "code",
   "execution_count": 4,
   "metadata": {
    "colab": {
     "base_uri": "https://localhost:8080/"
    },
    "id": "wP1ItcRpzI0P",
    "outputId": "182aef6c-4013-48f8-c603-e0c32bf83dc2"
   },
   "outputs": [
    {
     "data": {
      "text/html": [
       "<div>\n",
       "<style scoped>\n",
       "    .dataframe tbody tr th:only-of-type {\n",
       "        vertical-align: middle;\n",
       "    }\n",
       "\n",
       "    .dataframe tbody tr th {\n",
       "        vertical-align: top;\n",
       "    }\n",
       "\n",
       "    .dataframe thead th {\n",
       "        text-align: right;\n",
       "    }\n",
       "</style>\n",
       "<table border=\"1\" class=\"dataframe\">\n",
       "  <thead>\n",
       "    <tr style=\"text-align: right;\">\n",
       "      <th></th>\n",
       "      <th>user_id</th>\n",
       "      <th>hour</th>\n",
       "      <th>os</th>\n",
       "      <th>order_class</th>\n",
       "      <th>surge</th>\n",
       "      <th>app_opened</th>\n",
       "      <th>price_seen</th>\n",
       "      <th>order_made</th>\n",
       "      <th>ride_completed</th>\n",
       "      <th>user_cancelled</th>\n",
       "      <th>city_center_order</th>\n",
       "      <th>distance</th>\n",
       "      <th>age</th>\n",
       "      <th>rfm</th>\n",
       "    </tr>\n",
       "  </thead>\n",
       "  <tbody>\n",
       "    <tr>\n",
       "      <th>0</th>\n",
       "      <td>867689</td>\n",
       "      <td>12</td>\n",
       "      <td>iOS</td>\n",
       "      <td>business</td>\n",
       "      <td>no surge</td>\n",
       "      <td>1</td>\n",
       "      <td>1</td>\n",
       "      <td>1</td>\n",
       "      <td>1</td>\n",
       "      <td>0</td>\n",
       "      <td>0</td>\n",
       "      <td>8.0</td>\n",
       "      <td>20</td>\n",
       "      <td>low</td>\n",
       "    </tr>\n",
       "    <tr>\n",
       "      <th>1</th>\n",
       "      <td>752172</td>\n",
       "      <td>5</td>\n",
       "      <td>Android</td>\n",
       "      <td>economy</td>\n",
       "      <td>no surge</td>\n",
       "      <td>1</td>\n",
       "      <td>1</td>\n",
       "      <td>1</td>\n",
       "      <td>1</td>\n",
       "      <td>0</td>\n",
       "      <td>1</td>\n",
       "      <td>2.9</td>\n",
       "      <td>27</td>\n",
       "      <td>high</td>\n",
       "    </tr>\n",
       "    <tr>\n",
       "      <th>2</th>\n",
       "      <td>486559</td>\n",
       "      <td>15</td>\n",
       "      <td>Android</td>\n",
       "      <td>comfort</td>\n",
       "      <td>no surge</td>\n",
       "      <td>1</td>\n",
       "      <td>1</td>\n",
       "      <td>1</td>\n",
       "      <td>1</td>\n",
       "      <td>0</td>\n",
       "      <td>0</td>\n",
       "      <td>7.2</td>\n",
       "      <td>21</td>\n",
       "      <td>high</td>\n",
       "    </tr>\n",
       "    <tr>\n",
       "      <th>3</th>\n",
       "      <td>304024</td>\n",
       "      <td>0</td>\n",
       "      <td>Android</td>\n",
       "      <td>economy</td>\n",
       "      <td>no surge</td>\n",
       "      <td>1</td>\n",
       "      <td>1</td>\n",
       "      <td>1</td>\n",
       "      <td>1</td>\n",
       "      <td>0</td>\n",
       "      <td>1</td>\n",
       "      <td>1.9</td>\n",
       "      <td>52</td>\n",
       "      <td>low</td>\n",
       "    </tr>\n",
       "    <tr>\n",
       "      <th>4</th>\n",
       "      <td>139420</td>\n",
       "      <td>0</td>\n",
       "      <td>Android</td>\n",
       "      <td>business</td>\n",
       "      <td>no surge</td>\n",
       "      <td>1</td>\n",
       "      <td>1</td>\n",
       "      <td>1</td>\n",
       "      <td>1</td>\n",
       "      <td>0</td>\n",
       "      <td>0</td>\n",
       "      <td>10.7</td>\n",
       "      <td>19</td>\n",
       "      <td>low</td>\n",
       "    </tr>\n",
       "  </tbody>\n",
       "</table>\n",
       "</div>"
      ],
      "text/plain": [
       "   user_id  hour       os order_class     surge  app_opened  price_seen  \\\n",
       "0   867689    12      iOS    business  no surge           1           1   \n",
       "1   752172     5  Android     economy  no surge           1           1   \n",
       "2   486559    15  Android     comfort  no surge           1           1   \n",
       "3   304024     0  Android     economy  no surge           1           1   \n",
       "4   139420     0  Android    business  no surge           1           1   \n",
       "\n",
       "   order_made  ride_completed  user_cancelled  city_center_order  distance  \\\n",
       "0           1               1               0                  0       8.0   \n",
       "1           1               1               0                  1       2.9   \n",
       "2           1               1               0                  0       7.2   \n",
       "3           1               1               0                  1       1.9   \n",
       "4           1               1               0                  0      10.7   \n",
       "\n",
       "   age   rfm  \n",
       "0   20   low  \n",
       "1   27  high  \n",
       "2   21  high  \n",
       "3   52   low  \n",
       "4   19   low  "
      ]
     },
     "execution_count": 4,
     "metadata": {},
     "output_type": "execute_result"
    }
   ],
   "source": [
    "#округлим значения дистанции(км) до десятых, для более простой группировки\n",
    "\n",
    "df['distance'] = round(df['distance'], 1)\n",
    "df.head()"
   ]
  },
  {
   "cell_type": "markdown",
   "metadata": {
    "id": "gEN1OShvzNRr"
   },
   "source": [
    "### Метрика: Дистанция в заказе"
   ]
  },
  {
   "cell_type": "code",
   "execution_count": 5,
   "metadata": {
    "colab": {
     "base_uri": "https://localhost:8080/"
    },
    "id": "LNCkhwuMzOPQ",
    "outputId": "7b0543cc-1155-4a5b-affb-3c0005298243"
   },
   "outputs": [
    {
     "name": "stdout",
     "output_type": "stream",
     "text": [
      "среднее       =  5.4\n",
      "медиана       =  4.3\n",
      "перцентиль 95 =  13.7\n"
     ]
    }
   ],
   "source": [
    "df['distance'].describe()\n",
    "print('среднее       = ', round(df['distance'].mean(),1))\n",
    "print('медиана       = ', df['distance'].median())\n",
    "print('перцентиль 95 = ', df['distance'].quantile(0.95))"
   ]
  },
  {
   "cell_type": "code",
   "execution_count": 6,
   "metadata": {
    "colab": {
     "base_uri": "https://localhost:8080/"
    },
    "id": "u984x1fmzRo1",
    "outputId": "e5fd64d9-d43a-49ce-9f01-aa5bb598abff"
   },
   "outputs": [
    {
     "data": {
      "text/plain": [
       "<seaborn.axisgrid.FacetGrid at 0x29d89cb3fa0>"
      ]
     },
     "execution_count": 6,
     "metadata": {},
     "output_type": "execute_result"
    },
    {
     "data": {
      "image/png": "[encoded data removed]",
      "text/plain": [
       "<Figure size 977.143x360 with 1 Axes>"
      ]
     },
     "metadata": {
      "needs_background": "light"
     },
     "output_type": "display_data"
    }
   ],
   "source": [
    "sns.displot(df['distance'], aspect=19/7)"
   ]
  },
  {
   "cell_type": "code",
   "execution_count": 21,
   "metadata": {
    "colab": {
     "base_uri": "https://localhost:8080/"
    },
    "id": "uTNBemrozUgD",
    "outputId": "545328a7-9ec5-478d-bbac-4d661aed665b"
   },
   "outputs": [
    {
     "data": {
      "text/plain": [
       "<AxesSubplot:>"
      ]
     },
     "execution_count": 21,
     "metadata": {},
     "output_type": "execute_result"
    },
    {
     "data": {
      "image/png": "[encoded data removed]",
      "text/plain": [
       "<Figure size 1080x504 with 1 Axes>"
      ]
     },
     "metadata": {
      "needs_background": "light"
     },
     "output_type": "display_data"
    }
   ],
   "source": [
    "plt.figure(figsize=(15,7))\n",
    "sns.boxplot(data = df['distance'], orient = 'h')"
   ]
  },
  {
   "cell_type": "markdown",
   "metadata": {
    "id": "RilI9K4KzZbz"
   },
   "source": [
    "### Метрика: Возраст клиента"
   ]
  },
  {
   "cell_type": "code",
   "execution_count": 8,
   "metadata": {
    "colab": {
     "base_uri": "https://localhost:8080/"
    },
    "id": "UrGuQbv2zbJT",
    "outputId": "68be9055-9484-4d74-dfb6-f47279063def"
   },
   "outputs": [
    {
     "name": "stdout",
     "output_type": "stream",
     "text": [
      "среднее       =  25.9\n",
      "медиана       =  24.0\n",
      "перцентиль 95 =  42.0\n"
     ]
    }
   ],
   "source": [
    "print('среднее       = ', round(df['age'].mean(),1))\n",
    "print('медиана       = ', df['age'].median())\n",
    "print('перцентиль 95 = ', df['age'].quantile(0.95))"
   ]
  },
  {
   "cell_type": "code",
   "execution_count": 27,
   "metadata": {
    "colab": {
     "base_uri": "https://localhost:8080/"
    },
    "id": "HgNlqWldzcHE",
    "outputId": "37cd5eef-a579-49fd-c0fb-c8e8a35ce8d1"
   },
   "outputs": [
    {
     "data": {
      "text/plain": [
       "<seaborn.axisgrid.FacetGrid at 0x29d8e885d90>"
      ]
     },
     "execution_count": 27,
     "metadata": {},
     "output_type": "execute_result"
    },
    {
     "data": {
      "text/plain": [
       "<Figure size 720x1080 with 0 Axes>"
      ]
     },
     "metadata": {},
     "output_type": "display_data"
    },
    {
     "data": {
      "image/png": "[encoded data removed]",
      "text/plain": [
       "<Figure size 360x360 with 1 Axes>"
      ]
     },
     "metadata": {
      "needs_background": "light"
     },
     "output_type": "display_data"
    }
   ],
   "source": [
    "plt.figure(figsize=(10,15))\n",
    "sns.displot(df['age'])"
   ]
  },
  {
   "cell_type": "code",
   "execution_count": 32,
   "metadata": {
    "colab": {
     "base_uri": "https://localhost:8080/",
     "height": 351
    },
    "id": "iOA1CYPKzdWu",
    "outputId": "d6eda79e-18e5-4768-dfab-fa2ca898face"
   },
   "outputs": [
    {
     "data": {
      "text/plain": [
       "<AxesSubplot:>"
      ]
     },
     "execution_count": 32,
     "metadata": {},
     "output_type": "execute_result"
    },
    {
     "data": {
      "image/png": "[encoded data removed]",
      "text/plain": [
       "<Figure size 1224x288 with 1 Axes>"
      ]
     },
     "metadata": {
      "needs_background": "light"
     },
     "output_type": "display_data"
    }
   ],
   "source": [
    "plt.figure(figsize=(17,4))\n",
    "sns.boxplot(data = df['age'], orient = 'h')"
   ]
  },
  {
   "cell_type": "markdown",
   "metadata": {
    "id": "202EBrV3zhZg"
   },
   "source": [
    "### Метрика: Конверсия в заказ (по пользователям)"
   ]
  },
  {
   "cell_type": "code",
   "execution_count": 11,
   "metadata": {
    "colab": {
     "base_uri": "https://localhost:8080/",
     "height": 206
    },
    "id": "FDy52hP2zi3O",
    "outputId": "60f285e1-188e-484e-a06e-c342031cc879"
   },
   "outputs": [
    {
     "data": {
      "text/html": [
       "<div>\n",
       "<style scoped>\n",
       "    .dataframe tbody tr th:only-of-type {\n",
       "        vertical-align: middle;\n",
       "    }\n",
       "\n",
       "    .dataframe tbody tr th {\n",
       "        vertical-align: top;\n",
       "    }\n",
       "\n",
       "    .dataframe thead th {\n",
       "        text-align: right;\n",
       "    }\n",
       "</style>\n",
       "<table border=\"1\" class=\"dataframe\">\n",
       "  <thead>\n",
       "    <tr style=\"text-align: right;\">\n",
       "      <th></th>\n",
       "      <th>user_id</th>\n",
       "      <th>order_count</th>\n",
       "      <th>seen_price</th>\n",
       "      <th>conv_to_ride</th>\n",
       "    </tr>\n",
       "  </thead>\n",
       "  <tbody>\n",
       "    <tr>\n",
       "      <th>0</th>\n",
       "      <td>100093</td>\n",
       "      <td>3</td>\n",
       "      <td>4</td>\n",
       "      <td>75.0</td>\n",
       "    </tr>\n",
       "    <tr>\n",
       "      <th>1</th>\n",
       "      <td>100118</td>\n",
       "      <td>5</td>\n",
       "      <td>5</td>\n",
       "      <td>100.0</td>\n",
       "    </tr>\n",
       "    <tr>\n",
       "      <th>2</th>\n",
       "      <td>100134</td>\n",
       "      <td>4</td>\n",
       "      <td>5</td>\n",
       "      <td>80.0</td>\n",
       "    </tr>\n",
       "    <tr>\n",
       "      <th>3</th>\n",
       "      <td>100166</td>\n",
       "      <td>4</td>\n",
       "      <td>5</td>\n",
       "      <td>80.0</td>\n",
       "    </tr>\n",
       "    <tr>\n",
       "      <th>4</th>\n",
       "      <td>100255</td>\n",
       "      <td>5</td>\n",
       "      <td>9</td>\n",
       "      <td>56.0</td>\n",
       "    </tr>\n",
       "  </tbody>\n",
       "</table>\n",
       "</div>"
      ],
      "text/plain": [
       "   user_id  order_count  seen_price  conv_to_ride\n",
       "0   100093            3           4          75.0\n",
       "1   100118            5           5         100.0\n",
       "2   100134            4           5          80.0\n",
       "3   100166            4           5          80.0\n",
       "4   100255            5           9          56.0"
      ]
     },
     "execution_count": 11,
     "metadata": {},
     "output_type": "execute_result"
    }
   ],
   "source": [
    "#выбрали тех, кто увидел цену и сделал заказ\n",
    "users_order_count = df.query('price_seen == 1 and order_made == 1') \\\n",
    "    .groupby('user_id', as_index=False) \\\n",
    "    .agg({'hour':'count'}) \\\n",
    "    .rename(columns={'hour':'order_count'})\n",
    "\n",
    "#выбрали всех кто увидел цену (сделал заказ + не сделал заказ)\n",
    "users_seen_price = df.query('price_seen == 1') \\\n",
    "    .groupby('user_id', as_index=False) \\\n",
    "    .agg({'hour':'count'}) \\\n",
    "    .rename(columns={'hour':'seen_price'})\n",
    "\n",
    "#объединяем две таблицы через left-join\n",
    "conv_to_ride = users_order_count.merge(users_seen_price, on='user_id', how='left').fillna(0)\n",
    "conv_to_ride['conv_to_ride'] = round(conv_to_ride.order_count / conv_to_ride.seen_price,2) * 100\n",
    "conv_to_ride.head()"
   ]
  },
  {
   "cell_type": "code",
   "execution_count": 12,
   "metadata": {
    "colab": {
     "base_uri": "https://localhost:8080/"
    },
    "id": "dJ-vkHQMzkCM",
    "outputId": "30eea268-e184-42b7-966c-0827ac55ddfa"
   },
   "outputs": [
    {
     "name": "stdout",
     "output_type": "stream",
     "text": [
      "среднее       =  83.4\n",
      "медиана       =  100.0\n",
      "перцентиль 95 =  100.0\n"
     ]
    }
   ],
   "source": [
    "print('среднее       = ', round(conv_to_ride['conv_to_ride'].mean(),1))\n",
    "print('медиана       = ', conv_to_ride['conv_to_ride'].median())\n",
    "print('перцентиль 95 = ', conv_to_ride['conv_to_ride'].quantile(0.95))"
   ]
  },
  {
   "cell_type": "code",
   "execution_count": 33,
   "metadata": {
    "colab": {
     "base_uri": "https://localhost:8080/"
    },
    "id": "cbFxDxP1zmsJ",
    "outputId": "0c917cd8-cdd0-493e-edb5-e35e164340ef"
   },
   "outputs": [
    {
     "data": {
      "text/plain": [
       "<seaborn.axisgrid.FacetGrid at 0x29d8fa00610>"
      ]
     },
     "execution_count": 33,
     "metadata": {},
     "output_type": "execute_result"
    },
    {
     "data": {
      "text/plain": [
       "<Figure size 1368x504 with 0 Axes>"
      ]
     },
     "metadata": {},
     "output_type": "display_data"
    },
    {
     "data": {
      "image/png": "[encoded data removed]",
      "text/plain": [
       "<Figure size 360x360 with 1 Axes>"
      ]
     },
     "metadata": {
      "needs_background": "light"
     },
     "output_type": "display_data"
    }
   ],
   "source": [
    "plt.figure(figsize=(19,7))\n",
    "sns.displot(conv_to_ride['conv_to_ride'])"
   ]
  },
  {
   "cell_type": "code",
   "execution_count": 35,
   "metadata": {
    "colab": {
     "base_uri": "https://localhost:8080/"
    },
    "id": "TMCCp89MzoK7",
    "outputId": "633f70b1-c376-4960-d6c1-3d96c3031633"
   },
   "outputs": [
    {
     "data": {
      "text/plain": [
       "<AxesSubplot:>"
      ]
     },
     "execution_count": 35,
     "metadata": {},
     "output_type": "execute_result"
    },
    {
     "data": {
      "image/png": "[encoded data removed]",
      "text/plain": [
       "<Figure size 1224x288 with 1 Axes>"
      ]
     },
     "metadata": {
      "needs_background": "light"
     },
     "output_type": "display_data"
    }
   ],
   "source": [
    "plt.figure(figsize=(17,4))\n",
    "sns.boxplot(data=conv_to_ride['conv_to_ride'], orient ='h')"
   ]
  },
  {
   "cell_type": "code",
   "execution_count": null,
   "metadata": {
    "id": "6aZhCsABzpUg"
   },
   "outputs": [],
   "source": []
  },
  {
   "cell_type": "code",
   "execution_count": null,
   "metadata": {},
   "outputs": [],
   "source": []
  }
 ],
 "metadata": {
  "colab": {
   "provenance": []
  },
  "kernelspec": {
   "display_name": "Python 3 (ipykernel)",
   "language": "python",
   "name": "python3"
  },
  "language_info": {
   "codemirror_mode": {
    "name": "ipython",
    "version": 3
   },
   "file_extension": ".py",
   "mimetype": "text/x-python",
   "name": "python",
   "nbconvert_exporter": "python",
   "pygments_lexer": "ipython3",
   "version": "3.9.7"
  }
 },
 "nbformat": 4,
 "nbformat_minor": 1
}
